{
 "cells": [
  {
   "cell_type": "markdown",
   "id": "63be0fae",
   "metadata": {},
   "source": [
    "모듈 import"
   ]
  },
  {
   "cell_type": "code",
   "execution_count": 1,
   "id": "e84d9dbb",
   "metadata": {},
   "outputs": [],
   "source": [
    "import numpy"
   ]
  },
  {
   "cell_type": "code",
   "execution_count": 2,
   "id": "79f008ff",
   "metadata": {},
   "outputs": [],
   "source": [
    "import matplotlib.pyplot\n",
    "%matplotlib inline"
   ]
  },
  {
   "cell_type": "code",
   "execution_count": 3,
   "id": "dddd75fd",
   "metadata": {},
   "outputs": [],
   "source": [
    "# 시그모이드 함수 expit() 불러오기\n",
    "import scipy.special"
   ]
  },
  {
   "cell_type": "markdown",
   "id": "c3f458a9",
   "metadata": {},
   "source": [
    "클래스 구조"
   ]
  },
  {
   "cell_type": "code",
   "execution_count": 4,
   "id": "2381d3eb",
   "metadata": {},
   "outputs": [],
   "source": [
    "class neuralNetwork:\n",
    "    \n",
    "    # 초기화\n",
    "    def __init__():\n",
    "        pass\n",
    "    \n",
    "    # 학습\n",
    "    def train():\n",
    "        pass\n",
    "    \n",
    "    # 질의\n",
    "    def query():\n",
    "        pass\n",
    "    "
   ]
  },
  {
   "cell_type": "markdown",
   "id": "cdbe15a6",
   "metadata": {},
   "source": [
    "초기화"
   ]
  },
  {
   "cell_type": "code",
   "execution_count": 23,
   "id": "32cf6133",
   "metadata": {},
   "outputs": [],
   "source": [
    "# 신경망 초기화하기\n",
    "\n",
    "class neuralNetwork:\n",
    "    \n",
    "    # 초기화\n",
    "    def __init__(self, inputnodes, hiddennodes, outputnodes, learningrate):\n",
    "        # 각 계층의 노드 개수 설정\n",
    "        self.inodes = inputnodes\n",
    "        self.hnodes = hiddennodes\n",
    "        self.onodes = outputnodes\n",
    "        \n",
    "        # 가중치 행렬 wih와 who\n",
    "        self.wih = numpy.random.normal(0.0, pow(self.hnodes, -0.5), (self.hnodes, self.inodes))\n",
    "        self.who = numpy.random.normal(0.0, pow(self.onodes, -0.5), (self.onodes, self.hnodes))\n",
    "        \n",
    "        # 학습률\n",
    "        self.lr = learningrate\n",
    "        \n",
    "        # 활성화 함수로 시그모이드 함수 이용\n",
    "        self.activation_function = lambda x: scipy.special.expit(x)\n",
    "    \n",
    "    # 학습\n",
    "    def train():\n",
    "        pass\n",
    "    \n",
    "    # 질의\n",
    "    def query(self, inputs_list):\n",
    "        # 입력 리스트를 2차원 행렬로 변환\n",
    "        inputs = numpy.array(inputs_list, ndmin=2).T\n",
    "        \n",
    "        # 은닉 계층의 입력, 출력 계산\n",
    "        hidden_inputs = numpy.dot(self.wih, inputs)\n",
    "        hidden_outputs = self.activation_function(hidden_inputs)\n",
    "        \n",
    "        # 출력 계층의 입력, 출력 계산\n",
    "        final_inputs = numpy.dot(self.who, hidden_outputs)\n",
    "        final_outputs = self.activation_function(final_inputs)\n",
    "        \n",
    "        return final_outputs\n",
    "    "
   ]
  },
  {
   "cell_type": "code",
   "execution_count": 24,
   "id": "07a84eae",
   "metadata": {},
   "outputs": [],
   "source": [
    "# 객체 생성\n",
    "\n",
    "input_nodes = 3\n",
    "hidden_nodes = 3\n",
    "output_nodes = 3\n",
    "\n",
    "learning_rate = 0.3\n",
    "\n",
    "n = neuralNetwork(input_nodes, hidden_nodes, output_nodes, learning_rate)"
   ]
  },
  {
   "cell_type": "code",
   "execution_count": 25,
   "id": "95d91784",
   "metadata": {},
   "outputs": [
    {
     "data": {
      "text/plain": [
       "array([[0.69567676],\n",
       "       [0.61704743],\n",
       "       [0.46636542]])"
      ]
     },
     "execution_count": 25,
     "metadata": {},
     "output_type": "execute_result"
    }
   ],
   "source": [
    "n.query([1.0, 0.5, -1.5])"
   ]
  },
  {
   "cell_type": "code",
   "execution_count": null,
   "id": "3305881a",
   "metadata": {},
   "outputs": [],
   "source": []
  }
 ],
 "metadata": {
  "kernelspec": {
   "display_name": "Python 3 (ipykernel)",
   "language": "python",
   "name": "python3"
  },
  "language_info": {
   "codemirror_mode": {
    "name": "ipython",
    "version": 3
   },
   "file_extension": ".py",
   "mimetype": "text/x-python",
   "name": "python",
   "nbconvert_exporter": "python",
   "pygments_lexer": "ipython3",
   "version": "3.9.12"
  }
 },
 "nbformat": 4,
 "nbformat_minor": 5
}
